{
  "cells": [
    {
      "cell_type": "markdown",
      "metadata": {
        "id": "BsFzB9aV1tf2"
      },
      "source": [
        "#**Python & Twitter: Aplicações em 140 caracteres**\n",
        "\n",
        "Esse notebook foi escrito para você, visando servir como base para a elaboração de projetos usando o Twitter e sua API.\n",
        "\n",
        "Aqui, deixamos uma colaboração em formato de código para servir de pontapé inicial para seus futuros trabalhos. Então, use sua criatividade e vá longe!"
      ]
    },
    {
      "cell_type": "markdown",
      "metadata": {
        "id": "xqy2TZnh5Kon"
      },
      "source": [
        "##**Importando a biblioteca**"
      ]
    },
    {
      "cell_type": "code",
      "execution_count": null,
      "metadata": {
        "id": "z0dOyge206m2"
      },
      "outputs": [],
      "source": [
        "import tweepy"
      ]
    },
    {
      "cell_type": "markdown",
      "metadata": {
        "id": "m4zkMEmE5f6-"
      },
      "source": [
        "## **Autenticando e configurando a API**"
      ]
    },
    {
      "cell_type": "code",
      "execution_count": null,
      "metadata": {
        "colab": {
          "base_uri": "https://localhost:8080/"
        },
        "id": "CxCyzd2W1tHv",
        "outputId": "bb8cf9e4-bdbd-405f-ab26-714e2fe7dcf6"
      },
      "outputs": [
        {
          "name": "stdout",
          "output_type": "stream",
          "text": [
            "<tweepy.auth.OAuthHandler object at 0x7f51f30e5b90>\n"
          ]
        }
      ],
      "source": [
        "autenticacao = tweepy.OAuthHandler('', '')\n",
        "print(autenticacao)\n",
        "autenticacao.set_access_token('',\n",
        "                      '')\n",
        "\n",
        "api = tweepy.API(autenticacao, wait_on_rate_limit=True, wait_on_rate_limit_notify=True)\n"
      ]
    },
    {
      "cell_type": "code",
      "execution_count": null,
      "metadata": {
        "id": "7Jdd421Gyi43"
      },
      "outputs": [],
      "source": [
        "dir(api)"
      ]
    },
    {
      "cell_type": "markdown",
      "metadata": {
        "id": "tUtrqlQbBBip"
      },
      "source": [
        "## **Tweets** [[1]](https://docs.tweepy.org/en/stable/api.html#tweets)\n"
      ]
    },
    {
      "cell_type": "markdown",
      "metadata": {
        "id": "3suKHAAH7g3G"
      },
      "source": [
        "###**Postando e entendendo os tweets**[[2]](https://docs.tweepy.org/en/stable/api.html#post-retrieve-and-engage-with-tweets)\n",
        "\n",
        "> Objeto STATUS/TWEET\n",
        "*   Como a API e o Tweepy veem e tratam os tweets\n",
        "* https://developer.twitter.com/en/docs/twitter-api/v1/data-dictionary/object-model/tweet\n"
      ]
    },
    {
      "cell_type": "code",
      "execution_count": null,
      "metadata": {
        "colab": {
          "base_uri": "https://localhost:8080/"
        },
        "id": "6sxF1xgnBNX7",
        "outputId": "a0f755de-bdee-49e2-b9eb-6d166205fdaa"
      },
      "outputs": [
        {
          "name": "stdout",
          "output_type": "stream",
          "text": [
            "<class 'tweepy.models.Status'>\n",
            "To make room for more expression, we will now count all emojis as equal—including those with gender‍‍‍ ‍‍and skin t… https://t.co/MkGjXf9aXm Twitter API\n",
            "289\n"
          ]
        }
      ],
      "source": [
        "# https://twitter.com/i/web/status/1050118621198921728\n",
        "\n",
        "tweet = api.get_status(1050118621198921728)\n",
        "\n",
        "print(type(tweet))\n",
        "print(tweet.text, tweet.author.name)\n",
        "\n",
        "# print(tweet.favorite_count)"
      ]
    },
    {
      "cell_type": "code",
      "execution_count": null,
      "metadata": {
        "id": "qKvsaJod1tju"
      },
      "outputs": [],
      "source": [
        "# Mostrando atributos. \n",
        "dir(tweet) "
      ]
    },
    {
      "cell_type": "markdown",
      "metadata": {
        "id": "734s2A-kDuPE"
      },
      "source": [
        "> **Publicando com a API e descobrindo o poder da função API.update_status**\n",
        "* Tweetando\n",
        "* Respondendo tweets\n",
        "* Retweetando com comentário"
      ]
    },
    {
      "cell_type": "code",
      "execution_count": null,
      "metadata": {
        "id": "0LUmEV6IIyuJ"
      },
      "outputs": [],
      "source": [
        "# Primeiros passos.\n",
        "\n",
        "hello_world = api.update_status(\"Hello world. #VIIISEMAC\")"
      ]
    },
    {
      "cell_type": "code",
      "execution_count": null,
      "metadata": {
        "id": "uJDkJ5LngRNc"
      },
      "outputs": [],
      "source": [
        "# Fazendo spam?\n",
        "\n",
        "for x in range(3):\n",
        "  api.update_status(f\"Este é o tweet de numero {x}! #VIIISEMAC\")"
      ]
    },
    {
      "cell_type": "code",
      "execution_count": null,
      "metadata": {
        "id": "pi2AK6GQnVKc"
      },
      "outputs": [],
      "source": [
        "# Respondendo pessoas. \n",
        "\n",
        "api.update_status(\"#VIIISEMAC\", in_reply_to_status_id = 1050118621198921728, auto_populate_reply_metadata = True)"
      ]
    },
    {
      "cell_type": "code",
      "execution_count": null,
      "metadata": {
        "id": "5GpbuzD0NUZW"
      },
      "outputs": [],
      "source": [
        "# Quotando tweets.\n",
        "\n",
        "api.update_status(\"Vamos participar da #VIIISEMAC\", attachment_url = \"https://twitter.com/TwitterAPI/status/1050118621198921728?s=20&t=E_EdfHW8HWk0c2ELQHngcQ\")"
      ]
    },
    {
      "cell_type": "markdown",
      "metadata": {
        "id": "zcQlwuMR4P1W"
      },
      "source": [
        "### **Interagindo com tweets**\n",
        "> Automatizando engajamento\n",
        "* Um like e eu...\n",
        "* Retweet e Unretweet\n",
        "* Apagando tweets 😳"
      ]
    },
    {
      "cell_type": "code",
      "execution_count": null,
      "metadata": {
        "id": "KgOF6hJb8QXT"
      },
      "outputs": [],
      "source": [
        "# Curtindo um tweet.\n",
        "\n",
        "api.create_favorite(hello_world.id)\n"
      ]
    },
    {
      "cell_type": "code",
      "execution_count": null,
      "metadata": {
        "id": "qRJXHF-T85LL"
      },
      "outputs": [],
      "source": [
        "# Retirando a curtida de um tweet.\n",
        "\n",
        "api.destroy_favorite(hello_world.id)\n"
      ]
    },
    {
      "cell_type": "code",
      "execution_count": null,
      "metadata": {
        "id": "WgFSxKf2Anbq"
      },
      "outputs": [],
      "source": [
        "# Dando RT.\n",
        "\n",
        "api.retweet(hello_world.id)\n"
      ]
    },
    {
      "cell_type": "code",
      "execution_count": null,
      "metadata": {
        "id": "bgDbZotICnOw"
      },
      "outputs": [],
      "source": [
        "# Retirando o RT.\n",
        "\n",
        "api.unretweet(hello_world.id)\n"
      ]
    },
    {
      "cell_type": "code",
      "execution_count": null,
      "metadata": {
        "id": "JRfkwef_Ds1g"
      },
      "outputs": [],
      "source": [
        "# Apagando um tweet.\n",
        "\n",
        "api.destroy_status(hello_world.id)\n"
      ]
    },
    {
      "cell_type": "markdown",
      "metadata": {
        "id": "StOAg1EoRnst"
      },
      "source": [
        "##**Mídia** [[3]](https://docs.tweepy.org/en/stable/api.html#media)\n",
        "> Fazendo upload de mídias e realizando novas publicações\n",
        "* Postanto tweets com mídia (aceitam até 4 imagens ou 1 gif ou 1 vídeo)\n",
        "* Objeto MEDIA"
      ]
    },
    {
      "cell_type": "code",
      "execution_count": null,
      "metadata": {
        "colab": {
          "base_uri": "https://localhost:8080/"
        },
        "id": "j-WAbPkh6rq-",
        "outputId": "9c085b8f-c9ba-42ac-cbe9-b2a8bf6e872c"
      },
      "outputs": [
        {
          "name": "stdout",
          "output_type": "stream",
          "text": [
            "<class 'tweepy.models.Media'>\n",
            "1589343351492444162\n"
          ]
        }
      ],
      "source": [
        "# Fazendo upload de arquivos\n",
        "\n",
        "media_png = api.media_upload(\"gatinho.png\")\n",
        "media_jpg = api.media_upload(\"lontra.jpg\")\n",
        "\n",
        "media_gif = api.media_upload(\"Corginho.gif\")\n",
        "\n",
        "print(type(media_png))\n",
        "\n",
        "print(media_png.media_id)"
      ]
    },
    {
      "cell_type": "code",
      "execution_count": null,
      "metadata": {
        "id": "MfWzT8_lP9CD"
      },
      "outputs": [],
      "source": [
        "# Postando com as mídias enviadas.\n",
        "\n",
        "api.update_status(\"Fofinhos\", media_ids = [media_png.media_id, media_jpg.media_id], possibly_sensitive = False)\n",
        "\n",
        "api.update_status(\"OoOoOoOoOoO\", media_ids = [media_png.media_id], possibly_sensitive = False)\n"
      ]
    },
    {
      "cell_type": "markdown",
      "metadata": {
        "id": "W1EoeQmQZGXQ"
      },
      "source": [
        "## **Mensagens Diretas** [[4]](https://docs.tweepy.org/en/stable/api.html#direct-messages)\n",
        "> Enviando e recebendo DMs\n",
        "* Lendo todas as mensagens (recebidas e enviadas) dos ultimos 30 dias\n",
        "* Enviando uma mensagem\n",
        "* Objeto DirectMessage[[5]](https://developer.twitter.com/en/docs/twitter-api/v1/direct-messages/sending-and-receiving/guides/message-create-object)"
      ]
    },
    {
      "cell_type": "code",
      "execution_count": null,
      "metadata": {
        "id": "s4olIf3vZDPP"
      },
      "outputs": [],
      "source": [
        "# Coletando todas as mensagens\n",
        "\n",
        "api.list_direct_messages()\n"
      ]
    },
    {
      "cell_type": "code",
      "execution_count": null,
      "metadata": {
        "colab": {
          "base_uri": "https://localhost:8080/"
        },
        "id": "dwCo3LaKHeWN",
        "outputId": "c352f4dd-c2fd-4e1b-aeb4-232654c03362"
      },
      "outputs": [
        {
          "name": "stdout",
          "output_type": "stream",
          "text": [
            "De bot_semac para bot_resun - Oi\n",
            "De bot_resun para bot_semac - Olá\n",
            "De bot_resun para bot_semac - Tudo bem?\n"
          ]
        }
      ],
      "source": [
        "# Visualizando melhor as mensagens\n",
        "\n",
        "mensagens = api.list_direct_messages()\n",
        "\n",
        "mensagens.reverse()  # Invertendo a lista para exibir em ordem cronologica.\n",
        "\n",
        "for msg in mensagens:\n",
        "  remetente = msg.message_create['sender_id']\n",
        "  screen_name_remetente = api.get_user(remetente).screen_name\n",
        "\n",
        "  destinatario = msg.message_create['target'][\"recipient_id\"]\n",
        "  screen_name_destinatario = api.get_user(destinatario).screen_name\n",
        "\n",
        "  conteudo_da_mensagem = msg.message_create['message_data']['text']\n",
        "  print(f\"De {screen_name_remetente} para {screen_name_destinatario} - {conteudo_da_mensagem}\")"
      ]
    },
    {
      "cell_type": "code",
      "execution_count": null,
      "metadata": {
        "id": "PPWedbOnPvc6"
      },
      "outputs": [],
      "source": [
        "# Enviando uma mensagem\n",
        "\n",
        "api.send_direct_message(1566083506505138181, text = \"Tudo bem sim\")\n"
      ]
    },
    {
      "cell_type": "code",
      "execution_count": null,
      "metadata": {
        "id": "KPb1Fhp5b8wV"
      },
      "outputs": [],
      "source": [
        "# Enviando uma mensagem com mídia\n",
        "\n",
        "api.send_direct_message(1566083506505138181, text = \"Olha só!\",attachment_type = \"media\", attachment_media_id = media_png.media_id)\n"
      ]
    },
    {
      "cell_type": "markdown",
      "metadata": {
        "id": "6pTpNj5ZonSI"
      },
      "source": [
        "## **Possiveis aplicações**\n",
        "Algumas idéias para vocês perceberem as possibilidades de aplicações e para motivar a criar seus próprios projetos"
      ]
    },
    {
      "cell_type": "markdown",
      "metadata": {
        "id": "ovAaK9yRVQ63"
      },
      "source": [
        "1. Quantos litros de café o professor Gilton bebeu hoje?"
      ]
    },
    {
      "cell_type": "code",
      "execution_count": null,
      "metadata": {
        "id": "Z8LFd-Kim4MP"
      },
      "outputs": [],
      "source": [
        "import random\n",
        "\n",
        "lista_ate_20 = range(20)\n",
        "\n",
        "mentions = api.mentions_timeline()\n",
        "\n",
        "for mention in mentions:\n",
        "\n",
        "  resultado = random.choice(lista_ate_20)\n",
        "  \n",
        "  api.update_status(f\"O professor Gilton bebeu {resultado} litros de café hoje!\", in_reply_to_status_id = mention.id, auto_populate_reply_metadata = True)\n"
      ]
    },
    {
      "cell_type": "markdown",
      "metadata": {
        "id": "sAJQa2h1Vgrl"
      },
      "source": [
        "2. Mensagens para todos seguidores!\n"
      ]
    },
    {
      "cell_type": "code",
      "execution_count": null,
      "metadata": {
        "id": "B5SnyHYdVDA2"
      },
      "outputs": [],
      "source": [
        "seguidores = api.followers()\n",
        "\n",
        "for seguidor in seguidores:\n",
        "  media_png  = api.media_upload(\"nike.png\")\n",
        "  api.send_direct_message(seguidor.id, text = \"Olha só meu novo produto (LINK)!!!!\", attachment_type = \"media\", attachment_media_id = media_png.media_id )"
      ]
    },
    {
      "cell_type": "markdown",
      "metadata": {
        "id": "fxDfiETFSxDk"
      },
      "source": [
        "##**Referências**\n",
        "* [**Repositório da apresentação (contém todos os materiais)**](https://github.com/TarcisioAraujo7/VIII_SEMAC)\n",
        "* [**API do Twitter**](https://developer.twitter.com/en/docs/twitter-api/)\n",
        "* [**Documentação tweepy**](https://docs.tweepy.org/en/stable/)\n",
        "* [**Modelos de objetos**](https://docs.tweepy.org/en/stable/v1_models.html)\n",
        "* [**Como construir uma consulta**](https://developer.twitter.com/en/docs/twitter-api/tweets/search/integrate/build-a-query)\n",
        "* [**Bot Férias UFS (GitHub)**](https://github.com/TarcisioAraujo7/bot-twitter-ferias-UFS)\n",
        "* [**twitter-toolbox (GitHub)**](https://github.com/tuliosg/twitter-toolbox)"
      ]
    }
  ],
  "metadata": {
    "colab": {
      "collapsed_sections": [],
      "provenance": []
    },
    "kernelspec": {
      "display_name": "Python 3",
      "name": "python3"
    },
    "language_info": {
      "name": "python"
    }
  },
  "nbformat": 4,
  "nbformat_minor": 0
}
