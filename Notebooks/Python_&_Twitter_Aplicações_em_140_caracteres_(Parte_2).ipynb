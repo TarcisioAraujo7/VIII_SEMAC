{
  "nbformat": 4,
  "nbformat_minor": 0,
  "metadata": {
    "colab": {
      "provenance": [],
      "collapsed_sections": []
    },
    "kernelspec": {
      "name": "python3",
      "display_name": "Python 3"
    },
    "language_info": {
      "name": "python"
    }
  },
  "cells": [
    {
      "cell_type": "markdown",
      "source": [
        "#**Python & Twitter: Aplicações em 140 caracteres**\n",
        "\n",
        "Esse notebook foi escrito para você, visando servir como base para a elaboração de projetos usando o Twitter e sua API.\n",
        "\n",
        "Aqui, deixamos uma colaboração em formato de código para servir de pontapé inicial para seus futuros trabalhos. Então, use sua criatividade e vá longe!"
      ],
      "metadata": {
        "id": "Ct2Wgjgbcj7X"
      }
    },
    {
      "cell_type": "markdown",
      "source": [
        "##**Coletando dados do Twitter**\n",
        "**Atenção:** Nas contas com níveis de acesso \"Essential\" e \"Elevated\", a API permite a coleta de dados gerados nos últimos 7 dias. Para buscar tweets no acervo geral do Twitter é necessária uma conta com nível de acesso \"Academic research\".\n"
      ],
      "metadata": {
        "id": "pPFFovT0csHO"
      }
    },
    {
      "cell_type": "markdown",
      "source": [
        "**Instalando e importando a versão mais recente da tweepy**\n",
        "\n",
        "A utilização de algumas funcionalidades da API v2 do Twitter requer a versão mais recente da biblioteca *tweepy*, por isso vamos instalar direto do GitHub oficial."
      ],
      "metadata": {
        "id": "IpsOdKV_dMdu"
      }
    },
    {
      "cell_type": "code",
      "execution_count": null,
      "metadata": {
        "id": "hphNCEmWYK2e",
        "colab": {
          "base_uri": "https://localhost:8080/"
        },
        "outputId": "5963de9f-01c1-4f61-993b-8b28d1025584"
      },
      "outputs": [
        {
          "output_type": "stream",
          "name": "stdout",
          "text": [
            "Looking in indexes: https://pypi.org/simple, https://us-python.pkg.dev/colab-wheels/public/simple/\n",
            "Collecting git+https://github.com/tweepy/tweepy.git\n",
            "  Cloning https://github.com/tweepy/tweepy.git to /tmp/pip-req-build-v4pulzna\n",
            "  Running command git clone -q https://github.com/tweepy/tweepy.git /tmp/pip-req-build-v4pulzna\n",
            "Requirement already satisfied: oauthlib<4,>=3.2.0 in /usr/local/lib/python3.7/dist-packages (from tweepy==4.12.1) (3.2.2)\n",
            "Collecting requests<3,>=2.27.0\n",
            "  Downloading requests-2.28.1-py3-none-any.whl (62 kB)\n",
            "\u001b[K     |████████████████████████████████| 62 kB 563 kB/s \n",
            "\u001b[?25hRequirement already satisfied: requests-oauthlib<2,>=1.2.0 in /usr/local/lib/python3.7/dist-packages (from tweepy==4.12.1) (1.3.1)\n",
            "Requirement already satisfied: certifi>=2017.4.17 in /usr/local/lib/python3.7/dist-packages (from requests<3,>=2.27.0->tweepy==4.12.1) (2022.9.24)\n",
            "Requirement already satisfied: charset-normalizer<3,>=2 in /usr/local/lib/python3.7/dist-packages (from requests<3,>=2.27.0->tweepy==4.12.1) (2.1.1)\n",
            "Requirement already satisfied: urllib3<1.27,>=1.21.1 in /usr/local/lib/python3.7/dist-packages (from requests<3,>=2.27.0->tweepy==4.12.1) (1.24.3)\n",
            "Requirement already satisfied: idna<4,>=2.5 in /usr/local/lib/python3.7/dist-packages (from requests<3,>=2.27.0->tweepy==4.12.1) (2.10)\n",
            "Building wheels for collected packages: tweepy\n",
            "  Building wheel for tweepy (setup.py) ... \u001b[?25l\u001b[?25hdone\n",
            "  Created wheel for tweepy: filename=tweepy-4.12.1-py3-none-any.whl size=101664 sha256=85c5a763d77cec5473059864b17e6f0e0972d3d85dda065e15351a37b0b5c757\n",
            "  Stored in directory: /tmp/pip-ephem-wheel-cache-31xmbcan/wheels/b4/a5/5a/5074abdb9f4bd5bd0e22631a63fc41ae2fa71ad83780ea18d1\n",
            "Successfully built tweepy\n",
            "Installing collected packages: requests, tweepy\n",
            "  Attempting uninstall: requests\n",
            "    Found existing installation: requests 2.23.0\n",
            "    Uninstalling requests-2.23.0:\n",
            "      Successfully uninstalled requests-2.23.0\n",
            "  Attempting uninstall: tweepy\n",
            "    Found existing installation: tweepy 3.10.0\n",
            "    Uninstalling tweepy-3.10.0:\n",
            "      Successfully uninstalled tweepy-3.10.0\n",
            "Successfully installed requests-2.28.1 tweepy-4.12.1\n"
          ]
        }
      ],
      "source": [
        "!pip install git+https://github.com/tweepy/tweepy.git\n",
        "import tweepy"
      ]
    },
    {
      "cell_type": "markdown",
      "source": [
        "**Inserido as chaves e tokens**"
      ],
      "metadata": {
        "id": "wmo1MUUEgs4B"
      }
    },
    {
      "cell_type": "code",
      "source": [
        "consumer_key = \"\"\n",
        "consumer_secret = \"\"\n",
        "access_token = \"\"\n",
        "access_token_secret = \"\"\n",
        "bearer_token = \"\""
      ],
      "metadata": {
        "id": "C-qDZ1m6anZg"
      },
      "execution_count": null,
      "outputs": []
    },
    {
      "cell_type": "markdown",
      "source": [
        "**Autenticando token**"
      ],
      "metadata": {
        "id": "Cfe0f3XS9WqL"
      }
    },
    {
      "cell_type": "code",
      "source": [
        "client = tweepy.Client(bearer_token)"
      ],
      "metadata": {
        "id": "OiOK5ithYapV"
      },
      "execution_count": null,
      "outputs": []
    },
    {
      "cell_type": "markdown",
      "source": [
        "###**Construindo os parâmteros de busca**\n",
        "Aqui criamos a variável mais importante para a coleta dos dados. A chamaremos de consulta pois vem do inglês [query](https://developer.twitter.com/en/docs/twitter-api/tweets/search/integrate/build-a-query).<br/>\n",
        "Nela é possível adicionar palavras-chave e alguns outros filtros, como idioma e elementos presentes no tweet, por exemplo.\n",
        "\n",
        "Além da consulta, outros filtros podem ser adicionados como parâmetros para conseguirmos dados específicos atrelados aos tweets, como o nome e @ do autor."
      ],
      "metadata": {
        "id": "y4kckid_-MZO"
      }
    },
    {
      "cell_type": "code",
      "source": [
        "#Filtros para consulta\n",
        "consulta = \"(resun UFS) lang:pt\"\n",
        "\n",
        "#Data limite da coleta (Formato ISO 8601/RFC 3339)\n",
        "#Exemplo de data: [\"2022-03-14T23:59:00.00z\"]\n",
        "#data_fim = [\"AAAA-MM-DDTHH:MM:SS.ssz\"]\n",
        "\n",
        "#Número de resultados (máximo por consulta na conta \"Elevated Access\" -> 100 tweets)\n",
        "num_resultados = 100\n",
        "\n",
        "#Campos -> acessa os dados\n",
        "fields = [\"created_at\", \"author_id\"]\n",
        "\n",
        "#Expansões dos campos -> acessa os dados relacionados aos campos\n",
        "exp = [\"author_id\"]"
      ],
      "metadata": {
        "id": "g-6eMGJi9c6S"
      },
      "execution_count": null,
      "outputs": []
    },
    {
      "cell_type": "markdown",
      "source": [
        "###**Coletando os tweets**"
      ],
      "metadata": {
        "id": "qzhV3s0Fg9_A"
      }
    },
    {
      "cell_type": "code",
      "source": [
        "response = client.search_recent_tweets(query= consulta, max_results = num_resultados, tweet_fields = fields, expansions = exp)\n",
        "\n",
        "#Coletando os dados dos usuários (@ e nome)\n",
        "users = {u[\"id\"]: u for u in response.includes[\"users\"]}\n",
        "\n",
        "#Armazenando os dados\n",
        "tweets = response.data"
      ],
      "metadata": {
        "id": "hRKVZz9Pg7wp"
      },
      "execution_count": null,
      "outputs": []
    },
    {
      "cell_type": "markdown",
      "source": [
        "###**Exibindo os tweets**"
      ],
      "metadata": {
        "id": "GAtE4vI7hAwT"
      }
    },
    {
      "cell_type": "code",
      "source": [
        "for tweet in tweets:\n",
        "    if users[tweet.author_id]:\n",
        "        user = users[tweet.author_id]\n",
        "        #Data de criação | @ do usuário | Nome do usuário | Tweet\n",
        "        print(tweet.created_at, user.username, user.name, tweet.text)"
      ],
      "metadata": {
        "id": "0de6AXPwfdtl"
      },
      "execution_count": null,
      "outputs": []
    },
    {
      "cell_type": "markdown",
      "source": [
        "###**Salvando os tweets**\n",
        "**Atenção:** Segundo os termos e condições de uso da API não é permitido armazenar publicamente os tweets coletados. Então, nada de deixar os textos dos tweets públicos por aí.\n",
        "\n",
        "Nossa sugestão é armazenar as IDs dos tweets, por segurança."
      ],
      "metadata": {
        "id": "jb1_FcJSiHYR"
      }
    },
    {
      "cell_type": "code",
      "source": [
        "import pandas as pd\n",
        "\n",
        "#Nome das colunas no dataframe\n",
        "colunas = [\"Data\", \"Usuário\", \"Nome\", \"Tweet\"]\n",
        "\n",
        "#Dados que serão adicionados nas linhas do dataframe\n",
        "dados = []\n",
        "\n",
        "#Adiciona os dados coletados na lista \"dados\"\n",
        "for tweet in response.data:\n",
        "    if users[tweet.author_id]:\n",
        "        user = users[tweet.author_id]\n",
        "        dados.append([tweet.created_at, user.username, user.name, tweet.text])\n",
        "\n",
        "#Criação do data frame\n",
        "data_frame = pd.DataFrame(dados, columns = colunas)\n",
        "\n",
        "#Gerando .csv através do data frame\n",
        "data_frame.to_csv(\"Dados-Twitter.csv\", encoding=\"UTF-8\")"
      ],
      "metadata": {
        "id": "8ro_K4B3hO7R"
      },
      "execution_count": null,
      "outputs": []
    },
    {
      "cell_type": "markdown",
      "source": [
        "##**Fechando com chave de ouro**\n",
        "Agora, precisamos que vocês abram o Twitter e postem, com a **#VIIISEMAC**, algum feedback sobre esse mini curso. </br>\n",
        "**OBS.: O perfil precisa estar aberto** </br>\n",
        "*Não se preocupem, o @ de vocês não será exibido.*"
      ],
      "metadata": {
        "id": "BdV1JRKCgkJ7"
      }
    },
    {
      "cell_type": "markdown",
      "source": [
        "Aqui a brincadeira irá utilizar a função de stream da biblioteca tweepy. </br>\n",
        "Vamos buscar pela #VIIISEMAC e ver o que vocês estão postando em tempo real."
      ],
      "metadata": {
        "id": "PXsZIOdDQF6_"
      }
    },
    {
      "cell_type": "code",
      "source": [
        "streaming_client = tweepy.StreamingClient(bearer_token)"
      ],
      "metadata": {
        "id": "kJKlcyEdZpU9"
      },
      "execution_count": null,
      "outputs": []
    },
    {
      "cell_type": "code",
      "source": [
        "class tweetPrinter(tweepy.StreamingClient):\n",
        "    tweets = []\n",
        "\n",
        "    def on_tweet(self, tweet):\n",
        "        self.tweets.append(tweet)\n",
        "        print(tweet.text)"
      ],
      "metadata": {
        "id": "kueQKpr_aC8f"
      },
      "execution_count": null,
      "outputs": []
    },
    {
      "cell_type": "code",
      "source": [
        "stream_tweet = tweetPrinter(bearer_token)\n",
        "\n",
        "stream_tweet.add_rules(tweepy.StreamRule(\"#VIIISEMAC\"))\n",
        "\n",
        "stream_tweet.filter()"
      ],
      "metadata": {
        "id": "mFSkBxnPcWNP"
      },
      "execution_count": null,
      "outputs": []
    },
    {
      "cell_type": "code",
      "source": [
        "import pandas as pd\n",
        "colunas = [\"Tweet\"]\n",
        "linhas = []\n",
        "\n",
        "for tweet in stream_tweet.tweets:\n",
        "    linhas.append(tweet.text)\n",
        "\n",
        "df = pd.DataFrame(linhas, columns=colunas)\n",
        "df\n"
      ],
      "metadata": {
        "id": "qOQtD3PcjqEX"
      },
      "execution_count": null,
      "outputs": []
    },
    {
      "cell_type": "markdown",
      "source": [
        "##**Referências**\n",
        "* [**Repositório da apresentação (contém todos os materiais)**](https://github.com/TarcisioAraujo7/VIII_SEMAC)\n",
        "* [**API do Twitter**](https://developer.twitter.com/en/docs/twitter-api/)\n",
        "* [**Documentação tweepy**](https://docs.tweepy.org/en/stable/)\n",
        "* [**Modelos de objetos**](https://docs.tweepy.org/en/stable/v1_models.html)\n",
        "* [**Como construir uma consulta**](https://developer.twitter.com/en/docs/twitter-api/tweets/search/integrate/build-a-query)\n",
        "* [**Bot Férias UFS (GitHub)**](https://github.com/TarcisioAraujo7/bot-twitter-ferias-UFS)\n",
        "* [**twitter-toolbox (GitHub)**](https://github.com/tuliosg/twitter-toolbox)"
      ],
      "metadata": {
        "id": "i0lOXDURDFFG"
      }
    }
  ]
}